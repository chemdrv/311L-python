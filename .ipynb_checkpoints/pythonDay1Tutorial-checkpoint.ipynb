{
 "cells": [
  {
   "cell_type": "markdown",
   "metadata": {},
   "source": [
    "# Hello World"
   ]
  },
  {
   "cell_type": "markdown",
   "metadata": {},
   "source": [
    "It's a programming tradition that your first program in a new language prints the words \"hello world\", so we're going to do that. It's actually a super useful way to test any new language installation because it verifies that you've installed and set up the language correctly. It also lets you know the very basics of the language you're working with. So lets do it.\n",
    "\n",
    "You're currently in a Jupyter notebook that's going to teach you some Python. Let's use a Hello World line to get things started. You'll note that the cell below has the label \"In [ ]\" on the left, with maybe a number in the brackets. That's an input cell. Any cells which have correctly executed with an output will have an \"Out [ ]\" cell below them. I've already typed in a variable to store the words we want to print for you. To execute a cell, click in it and press \"shift+enter\". Do that on my phrase cell.\n"
   ]
  },
  {
   "cell_type": "code",
   "execution_count": 1,
   "metadata": {},
   "outputs": [],
   "source": [
    "phrase='Hello, world!'"
   ]
  },
  {
   "cell_type": "markdown",
   "metadata": {},
   "source": [
    "Nothing happened! That's because a cell that just stores a variable doesn't actually have an output. Let's print our phrase out. In the input cell below, type in the following command: `print(phrase)`"
   ]
  },
  {
   "cell_type": "code",
   "execution_count": 2,
   "metadata": {},
   "outputs": [
    {
     "name": "stdout",
     "output_type": "stream",
     "text": [
      "Hello, world!\n"
     ]
    }
   ],
   "source": []
  },
  {
   "cell_type": "markdown",
   "metadata": {},
   "source": [
    "You should see your phrase printed in an output cell. Each of these cells can be executed over and over again, so go up and edit the phrase variable and then execute both input cells again to see your new output.\n",
    "\n",
    "Can you store a couple of numbers as two variables and get the print command to show their sum? You can put multiple lines on one input cell by pressing enter between them. Remember that shift+enter is what you need to execute a cell.\n",
    "\n",
    "Programming languages recognize different types of data that can be stored as a variable. Older languages tend to be more particular how defining what your variable is and having lots of different types. The important thing to know is that different types of data gets encoded in the computer in different ways. Sets of characters that you intend to be a phrase are called \"strings\". Numerical information gets stored as other types. Python recognizes integers, called 'int', and numbers with a decimal point, called 'float'. (They're called floats becuase the decimal is allowed to move about, so if you do 5.2+5.2=10.4, the decimal has moved over one place in the display of the number.)"
   ]
  },
  {
   "cell_type": "markdown",
   "metadata": {},
   "source": [
    "# Your data analysis program"
   ]
  },
  {
   "cell_type": "markdown",
   "metadata": {},
   "source": [
    "Your goal is to make a program that does the following:\n",
    " - reads in voltage from a DAQ board\n",
    " - allows the user to specify the data reading interval\n",
    " - plots this data in real time using time as the horizontal axis\n",
    " - the plot needs axes labels\n",
    " - allows the user to end acquisition at any time\n",
    " - when the data acquisition is ended, the data gets saved\n",
    " - the user gets to specify where the data is saved to\n",
    " \n",
    " You'll work through the tutorial below to get there. It's split into three days to keep you on track, but feel free to work faster. It's rarely helpful to try to write a big script by starting at the top and writing it in order. Instead, you generally start from one small bit in the middle somewhere, and build on functionality bit by bit.\n",
    " \n",
    " A tip: no one writes larges chunks of code at once. Write a couple of lines, maybe five or ten when you get familiar with the language, then execute them. You will, at minimum, make typos. You'll probably also make actual errors. If you write fifty lines, it's hard to find the error. If you write one new line, you know where the problem is. This tutorial works you through writing tiny additions at a time and executing between each change."
   ]
  },
  {
   "cell_type": "markdown",
   "metadata": {},
   "source": [
    "## Day 1"
   ]
  },
  {
   "cell_type": "markdown",
   "metadata": {},
   "source": [
    "### Loops"
   ]
  },
  {
   "cell_type": "markdown",
   "metadata": {},
   "source": [
    "Programming languages contain control structures, often called loops. You might find a 'for' or a 'while' loop useful at various times in the semester. Both of these loops have a similar structure. Loops work like this:\n",
    "\n",
    "`while(something is true)\n",
    "  do a thing\n",
    "  do another thing\n",
    "  end`\n",
    "\n",
    "You're going to create a while loop. To decide how many times to run the loop, use an iterator: a variable that counts up (or down) each time the loop is run. The following code will run the loop several times, and print out successive values from i=6 to i=12."
   ]
  },
  {
   "cell_type": "code",
   "execution_count": 1,
   "metadata": {},
   "outputs": [
    {
     "name": "stdout",
     "output_type": "stream",
     "text": [
      "6\n",
      "7\n",
      "8\n",
      "9\n",
      "10\n",
      "11\n",
      "12\n"
     ]
    }
   ],
   "source": [
    "i=5\n",
    "\n",
    "while(i<12):\n",
    "    i=i+1\n",
    "    print(i)"
   ]
  },
  {
   "cell_type": "markdown",
   "metadata": {},
   "source": [
    "Why doesn't my code display the number 5? Can you make it display 5? I see two ways to do that. Can you make it count up by two? Can you make it count from 0 to 10 instead of 6 to 12? When you're finished playing, make your loop print the numbers 1 to 10.\n",
    "\n",
    "Here we get in to a basic troubleshooting problem. You're going to try to edit my code, and make a mistake, and forget how my code looked. Instead of reloading the whole file, lets make a sandbox for you to play in. Go ahead and copy my input code for the loop from the cell above and place it in the cell below this one. This way you still have my original version to reference as you make your changes.\n",
    "\n",
    "Want another cell to play in? You can always insert a cell by using the Insert menu above."
   ]
  },
  {
   "cell_type": "code",
   "execution_count": null,
   "metadata": {},
   "outputs": [],
   "source": []
  },
  {
   "cell_type": "markdown",
   "metadata": {},
   "source": [
    "### Plotting"
   ]
  },
  {
   "cell_type": "markdown",
   "metadata": {},
   "source": [
    "#### A very simple plot"
   ]
  },
  {
   "cell_type": "markdown",
   "metadata": {},
   "source": [
    "Now we're going to make a plot! First, though, we need to import the package that lets us plot. Python is open source, so there is more than one library that folks have written to plot, but the most common one I know of is called matplotlib. If you've used MATLAB, you'll find the syntax on this very familar: matplotlib was written to mimic MATLAB plotting. The line below imports the library we need and assigns it to the handle plt. You'll need to execute the import cell here, and any time I import a library for you. Then I've made a simple plot for you."
   ]
  },
  {
   "cell_type": "code",
   "execution_count": 11,
   "metadata": {},
   "outputs": [],
   "source": [
    "import matplotlib.pyplot as plt"
   ]
  },
  {
   "cell_type": "code",
   "execution_count": 13,
   "metadata": {},
   "outputs": [
    {
     "data": {
      "text/plain": [
       "[<matplotlib.lines.Line2D at 0x257074ed240>]"
      ]
     },
     "execution_count": 13,
     "metadata": {},
     "output_type": "execute_result"
    },
    {
     "data": {
      "image/png": "[encoded data removed]",
      "text/plain": [
       "<Figure size 432x288 with 1 Axes>"
      ]
     },
     "metadata": {
      "needs_background": "light"
     },
     "output_type": "display_data"
    }
   ],
   "source": [
    "plt.plot(i,'.')"
   ]
  },
  {
   "cell_type": "markdown",
   "metadata": {},
   "source": [
    "Now, it's a good idea to figure out what that nonsense-looking plot is I just make for you. Execute the line below to access the documentation on the plot function. What have I plotted?\n",
    "\n",
    "Most programming languages come packaged with some basic documentation, and it's faster and easier to use than doing a web search. Some examples of what you can expect to get out of the documentation:\n",
    " - How to call the function, that is, do you type `plt.plot(x,y)` or is it `plt.plot(y,x)`\n",
    " - Variations and extensions. I've only given the plot function one object, so what is the other axis? And what's that funny bit with the quotes and the period doing?\n",
    " - Similar functions, in case the function you have isn't doing quite what you want it to do.\n",
    "\n",
    "The documentation on common functions like plot() tend to be long and exhastive. Learn to skim them for the type of information you need. FYI, 'args' means arguments, which are things you pass to a function. Some of them are required, some of them aren't, but the function will figure them out by what type they are (float versus string, for example) and the order they're in. 'kwargs' stands for key-word arguments."
   ]
  },
  {
   "cell_type": "code",
   "execution_count": null,
   "metadata": {},
   "outputs": [],
   "source": [
    "help(plt.plot)"
   ]
  },
  {
   "cell_type": "markdown",
   "metadata": {},
   "source": [
    "#### Plotting several points by creating arrays"
   ]
  },
  {
   "cell_type": "markdown",
   "metadata": {},
   "source": [
    "Let's work out how to put several points on the same plot. To do this, you're going to make an array. An array is a box that can hold a bunch of objects. Those objects can be of lots of different types, and there isn't a limit on how many things you can put in your box. We're going to work with a very particular type of an array, called a Numpy arry. Go check out https://www.numpy.org/ if you want to know more about how excellent Numpy is. Basically, Numpy takes regular Python arrays that are sort of cumbersome (but make sense to computer scientists) to deal with and makes them work the way scientists want them to work. Here's the line to import Numpy:"
   ]
  },
  {
   "cell_type": "code",
   "execution_count": 1,
   "metadata": {},
   "outputs": [],
   "source": [
    "import numpy as np"
   ]
  },
  {
   "cell_type": "markdown",
   "metadata": {},
   "source": [
    "Next, I'm going to create an empty array. Remember, an array is a box that can hold stuff. But, unlike a real box, you don't have to know how many things you want to put in your box. Just make an empty box, then start putting stuff in it."
   ]
  },
  {
   "cell_type": "code",
   "execution_count": 58,
   "metadata": {},
   "outputs": [],
   "source": [
    "boxToHoldStuff=np.array([])"
   ]
  },
  {
   "cell_type": "markdown",
   "metadata": {},
   "source": [
    "If I want to put an object in my box, an easy way to do it is the `np.append()` function. Use the space below to append a value to the end of the `boxToHoldStuff` array. You'll probably need to access the documentation by calling the help command to see how to use the append function."
   ]
  },
  {
   "cell_type": "code",
   "execution_count": 4,
   "metadata": {},
   "outputs": [
    {
     "name": "stdout",
     "output_type": "stream",
     "text": [
      "Help on function append in module numpy:\n",
      "\n",
      "append(arr, values, axis=None)\n",
      "    Append values to the end of an array.\n",
      "    \n",
      "    Parameters\n",
      "    ----------\n",
      "    arr : array_like\n",
      "        Values are appended to a copy of this array.\n",
      "    values : array_like\n",
      "        These values are appended to a copy of `arr`.  It must be of the\n",
      "        correct shape (the same shape as `arr`, excluding `axis`).  If\n",
      "        `axis` is not specified, `values` can be any shape and will be\n",
      "        flattened before use.\n",
      "    axis : int, optional\n",
      "        The axis along which `values` are appended.  If `axis` is not\n",
      "        given, both `arr` and `values` are flattened before use.\n",
      "    \n",
      "    Returns\n",
      "    -------\n",
      "    append : ndarray\n",
      "        A copy of `arr` with `values` appended to `axis`.  Note that\n",
      "        `append` does not occur in-place: a new array is allocated and\n",
      "        filled.  If `axis` is None, `out` is a flattened array.\n",
      "    \n",
      "    See Also\n",
      "    --------\n",
      "    insert : Insert elements into an array.\n",
      "    delete : Delete elements from an array.\n",
      "    \n",
      "    Examples\n",
      "    --------\n",
      "    >>> np.append([1, 2, 3], [[4, 5, 6], [7, 8, 9]])\n",
      "    array([1, 2, 3, 4, 5, 6, 7, 8, 9])\n",
      "    \n",
      "    When `axis` is specified, `values` must have the correct shape.\n",
      "    \n",
      "    >>> np.append([[1, 2, 3], [4, 5, 6]], [[7, 8, 9]], axis=0)\n",
      "    array([[1, 2, 3],\n",
      "           [4, 5, 6],\n",
      "           [7, 8, 9]])\n",
      "    >>> np.append([[1, 2, 3], [4, 5, 6]], [7, 8, 9], axis=0)\n",
      "    Traceback (most recent call last):\n",
      "    ...\n",
      "    ValueError: arrays must have same number of dimensions\n",
      "\n"
     ]
    }
   ],
   "source": [
    "help(np.append)"
   ]
  },
  {
   "cell_type": "markdown",
   "metadata": {},
   "source": [
    "Alright let's use this now on your loop. You're going to make an array that will hold your iterator values. Maybe call it `iteratorValuesArray`. Initialize this array before your loop starts. Then, in your loop, append the current value to the end of the iterator. After your loop is over, type the name of your `iteratorValuesArray` on an un-indented line, and your output should print the entire array.\n",
    "\n",
    "A tip: Python runs on whitespace. It's designed to be readable by people, and we process indents and line breaks easier than we process things like semi-colons. So pay attention to what gets indented as you look at code examples. It's important."
   ]
  },
  {
   "cell_type": "code",
   "execution_count": 65,
   "metadata": {},
   "outputs": [
    {
     "name": "stdout",
     "output_type": "stream",
     "text": [
      "6\n",
      "7\n",
      "8\n",
      "9\n",
      "10\n",
      "11\n",
      "12\n"
     ]
    },
    {
     "data": {
      "text/plain": [
       "array([ 6.,  7.,  8.,  9., 10., 11., 12.])"
      ]
     },
     "execution_count": 65,
     "metadata": {},
     "output_type": "execute_result"
    }
   ],
   "source": []
  },
  {
   "cell_type": "markdown",
   "metadata": {},
   "source": [
    "Alright awesome. Finally, let's plot as we go. After you append the current value of the iterator to your array, add in a line that plots the entire array. To see what's happening as it's happening, put the following command after your plot function: `plt.pause(1)`. Access the documentation to see what that line does. You should see a series of plots pop up at one second intervals. Each plot should have one more data point. If you haven't yet, edit the formatting of your plot so it's just putting on points, not connecting them with a line."
   ]
  },
  {
   "cell_type": "code",
   "execution_count": null,
   "metadata": {},
   "outputs": [],
   "source": []
  },
  {
   "cell_type": "markdown",
   "metadata": {},
   "source": [
    "#### Plotting random numbers"
   ]
  },
  {
   "cell_type": "markdown",
   "metadata": {},
   "source": [
    "Let's go ahead and make a (slightly) more interesting plot. Firstly, I'm going to import a random number generator for you, and show you how it works by using it and giving you the help file. Execute the cell below several times, and notice that the random number changes.\n",
    "\n",
    "Some more information about the random number module can be found here: https://docs.python.org/2/library/random.html Random numbers can get very technical very quickly, but scroll to the bottom for some examples of other random number functions you might want in the future."
   ]
  },
  {
   "cell_type": "code",
   "execution_count": 21,
   "metadata": {},
   "outputs": [
    {
     "data": {
      "text/plain": [
       "0.6653490504758259"
      ]
     },
     "execution_count": 21,
     "metadata": {},
     "output_type": "execute_result"
    }
   ],
   "source": [
    "import random\n",
    "random.random()"
   ]
  },
  {
   "cell_type": "code",
   "execution_count": 22,
   "metadata": {},
   "outputs": [
    {
     "name": "stdout",
     "output_type": "stream",
     "text": [
      "Help on built-in function random:\n",
      "\n",
      "random(...) method of random.Random instance\n",
      "    random() -> x in the interval [0, 1).\n",
      "\n"
     ]
    }
   ],
   "source": [
    "help(random.random)"
   ]
  },
  {
   "cell_type": "markdown",
   "metadata": {},
   "source": [
    "Copy in your loop script below. Add in a second array, maybe called `dataArray`. You'll initialize this array before the loop. Then, each time the loop runs, append a random number to the end of this array. Plot your data, this time using the iterator as the x value and the random number as the y value.\n",
    "\n",
    "A tip: long variable names make code easier to read. But they're annoying to type. Type the first few letters of a long variable name in, and then press tab, and see how that'll help you."
   ]
  },
  {
   "cell_type": "code",
   "execution_count": null,
   "metadata": {},
   "outputs": [],
   "source": []
  },
  {
   "cell_type": "markdown",
   "metadata": {},
   "source": [
    "### Working with time"
   ]
  },
  {
   "cell_type": "markdown",
   "metadata": {},
   "source": [
    "The last big step today is to work with time. Let me import the module you need:"
   ]
  },
  {
   "cell_type": "code",
   "execution_count": 73,
   "metadata": {},
   "outputs": [],
   "source": [
    "import time"
   ]
  },
  {
   "cell_type": "markdown",
   "metadata": {},
   "source": [
    "Next, I'm going to give you some useful function names, and a place to explore them. Access the documentation, try storing variables, and work out how to take the difference betwen times. Some possibly useful functions functions:\n",
    " - `time.sleep()`\n",
    " - `time.time()`\n",
    " - `time.ctime()`\n",
    " \n",
    "Here's the documentation for the time module: https://docs.python.org/3.7/library/time.html#time.struct_time"
   ]
  },
  {
   "cell_type": "code",
   "execution_count": null,
   "metadata": {},
   "outputs": [],
   "source": []
  },
  {
   "cell_type": "markdown",
   "metadata": {},
   "source": [
    "Alright now you're going to edit your loop script again. Grab it and paste it below. Get rid of your iterator array. You're going to replace it with an array of times. So initialize an empty time array, giving it a nice clear name. Then, on each run of your loop, store the current time at the end of your time array, and plot your data versus time since you started your code.\n",
    "\n",
    "A tip: your times are getting stored in a array. The first time value is the first element array, but Python does what's called zero indexing. This means that the first element in an array is numbered 0, and it counts up from there. This is confusing at first, but actually makes a lot of array manipulations easier, once you get used to it. A classic explanation of why many languages use zero indexing is here: http://www.cs.utexas.edu/users/EWD/transcriptions/EWD08xx/EWD831.html We can access any element in an array if we know it's index. The syntax looks like this: `dataArray[0]`, which gives me the first element in the dataArray.\n",
    "\n",
    "A second tip: the instructions above ask you to do several things at once. Don't do them all at once. Make each small change, then execute your script, debug, then move forward. It took me seven runs to make these changes, and I knew what the answer should look like. You'll probably need many, many more executions."
   ]
  },
  {
   "cell_type": "code",
   "execution_count": null,
   "metadata": {},
   "outputs": [],
   "source": []
  },
  {
   "cell_type": "markdown",
   "metadata": {},
   "source": [
    "Finally, let's clean up your script in two ways.\n",
    "\n",
    "Check your variable names. Other than the iterator, they should be whole words that a person can read. Consider using camel case, `whichIsLikeThis`. Also, keep your variable names consistant. It's confusing to have `arrayForTimes` and `dataArray`. Make them both `arrayForData`/`arrayForTime` or `dataArray`/`timeArray`. Group blocks of similar code together, separated from other blocks of code by a blank line. If you have two lines that do really similar things, consider putting them one after the other, not separated by a third line that's unrelated. Overall, take a minute to make your code organized.\n",
    "\n",
    "Next, lets leave some notes. Programming languages reserve a character to denote a comment. In Python, that's the pound sign: `#`. Any text on a given line after a # doesn't get evaluated. It's good practice to comment as much as you code. Start by putting a header comment at the top. In plain English, describe what your script does. Also idenitfy yourself and say when you wrote it. Next, for each major thing your script does, put in a comment above it describing that section. Finally, any line that looks tricky should have an end-of-line comment saying what it does.\n",
    "\n",
    "Copy your script below, and clean it up according to these guidelines.\n",
    "\n",
    "A tip: comments are also great for trouble shooting! If you can't tell from an error message which line is the problem, comment out one of the options and re-run. See if the error changes. Sometimes it's even helpful to comment out whole blocks of code that you're not working with. You can also comment out code you think you want to delete, run to be sure you have what you want, and then delete it."
   ]
  },
  {
   "cell_type": "code",
   "execution_count": null,
   "metadata": {},
   "outputs": [],
   "source": []
  },
  {
   "cell_type": "markdown",
   "metadata": {},
   "source": [
    "## Exit Ticket"
   ]
  },
  {
   "cell_type": "markdown",
   "metadata": {},
   "source": [
    "In order to leave today, the following things need to be true:\n",
    " - You've decided how to share programming scripts as a group. A shared Box/Dropbox/Google Drive folder is a great idea.\n",
    " - You've set up your shared folder and everyone is sure they know how to access it\n",
    " - You've completed the tutorial up to this point\n",
    "\n",
    "If your script isn't running, you'll need to make a plan to get caught up. Type that plan in the cell below so Dr. V can read it and approve it."
   ]
  },
  {
   "cell_type": "markdown",
   "metadata": {},
   "source": []
  }
 ],
 "metadata": {
  "kernelspec": {
   "display_name": "Python 3",
   "language": "python",
   "name": "python3"
  },
  "language_info": {
   "codemirror_mode": {
    "name": "ipython",
    "version": 3
   },
   "file_extension": ".py",
   "mimetype": "text/x-python",
   "name": "python",
   "nbconvert_exporter": "python",
   "pygments_lexer": "ipython3",
   "version": "3.8.5"
  }
 },
 "nbformat": 4,
 "nbformat_minor": 2
}
