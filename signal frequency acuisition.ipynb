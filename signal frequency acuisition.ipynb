{
 "cells": [
  {
   "cell_type": "code",
   "execution_count": 1,
   "id": "a3ede614-b5ac-420d-a609-9b99a45b3dfe",
   "metadata": {},
   "outputs": [],
   "source": [
    "import numpy as np\n",
    "from matplotlib import pyplot as plt\n",
    "from scipy.fft import rfft, fftfreq, irfft\n",
    "import sounddevice as sd\n",
    "from scipy.io import wavfile"
   ]
  },
  {
   "cell_type": "code",
   "execution_count": 5,
   "id": "9f68774b-75ac-46b0-80d4-e7dd810b35e5",
   "metadata": {},
   "outputs": [
    {
     "name": "stdin",
     "output_type": "stream",
     "text": [
      "How long do you want to collect data? (in seconds) 10\n",
      "Name the file for your sound data (.wav). test.wav\n",
      "Name the file to be saved with your data (.txt) test.txt\n"
     ]
    },
    {
     "ename": "PortAudioError",
     "evalue": "Error querying device -1",
     "output_type": "error",
     "traceback": [
      "\u001b[31m---------------------------------------------------------------------------\u001b[39m",
      "\u001b[31mPortAudioError\u001b[39m                            Traceback (most recent call last)",
      "\u001b[36mCell\u001b[39m\u001b[36m \u001b[39m\u001b[32mIn[5]\u001b[39m\u001b[32m, line 9\u001b[39m\n\u001b[32m      6\u001b[39m \u001b[38;5;66;03m#Set sample frequence to 44,100 Hz which is the standard value\u001b[39;00m\n\u001b[32m      7\u001b[39m sampfreq = \u001b[32m44100\u001b[39m\n\u001b[32m----> \u001b[39m\u001b[32m9\u001b[39m recording = \u001b[43msd\u001b[49m\u001b[43m.\u001b[49m\u001b[43mrec\u001b[49m\u001b[43m(\u001b[49m\u001b[38;5;28;43mint\u001b[39;49m\u001b[43m(\u001b[49m\u001b[43mcollecttime\u001b[49m\u001b[43m \u001b[49m\u001b[43m*\u001b[49m\u001b[43m \u001b[49m\u001b[43msampfreq\u001b[49m\u001b[43m)\u001b[49m\u001b[43m,\u001b[49m\u001b[43m \u001b[49m\u001b[43mchannels\u001b[49m\u001b[43m \u001b[49m\u001b[43m=\u001b[49m\u001b[43m \u001b[49m\u001b[32;43m1\u001b[39;49m\u001b[43m)\u001b[49m\n\u001b[32m     11\u001b[39m \u001b[38;5;66;03m#Pausing to take the recording\u001b[39;00m\n\u001b[32m     12\u001b[39m sd.wait()\n",
      "\u001b[36mFile \u001b[39m\u001b[32m~\\AppData\\Local\\miniforge3\\envs\\heatcapacity\\Lib\\site-packages\\sounddevice.py:279\u001b[39m, in \u001b[36mrec\u001b[39m\u001b[34m(frames, samplerate, channels, dtype, out, mapping, blocking, **kwargs)\u001b[39m\n\u001b[32m    276\u001b[39m     ctx.read_indata(indata)\n\u001b[32m    277\u001b[39m     ctx.callback_exit()\n\u001b[32m--> \u001b[39m\u001b[32m279\u001b[39m \u001b[43mctx\u001b[49m\u001b[43m.\u001b[49m\u001b[43mstart_stream\u001b[49m\u001b[43m(\u001b[49m\u001b[43mInputStream\u001b[49m\u001b[43m,\u001b[49m\u001b[43m \u001b[49m\u001b[43msamplerate\u001b[49m\u001b[43m,\u001b[49m\u001b[43m \u001b[49m\u001b[43mctx\u001b[49m\u001b[43m.\u001b[49m\u001b[43minput_channels\u001b[49m\u001b[43m,\u001b[49m\n\u001b[32m    280\u001b[39m \u001b[43m                 \u001b[49m\u001b[43mctx\u001b[49m\u001b[43m.\u001b[49m\u001b[43minput_dtype\u001b[49m\u001b[43m,\u001b[49m\u001b[43m \u001b[49m\u001b[43mcallback\u001b[49m\u001b[43m,\u001b[49m\u001b[43m \u001b[49m\u001b[43mblocking\u001b[49m\u001b[43m,\u001b[49m\u001b[43m \u001b[49m\u001b[43m*\u001b[49m\u001b[43m*\u001b[49m\u001b[43mkwargs\u001b[49m\u001b[43m)\u001b[49m\n\u001b[32m    281\u001b[39m \u001b[38;5;28;01mreturn\u001b[39;00m out\n",
      "\u001b[36mFile \u001b[39m\u001b[32m~\\AppData\\Local\\miniforge3\\envs\\heatcapacity\\Lib\\site-packages\\sounddevice.py:2634\u001b[39m, in \u001b[36m_CallbackContext.start_stream\u001b[39m\u001b[34m(self, StreamClass, samplerate, channels, dtype, callback, blocking, **kwargs)\u001b[39m\n\u001b[32m   2631\u001b[39m \u001b[38;5;28;01mdef\u001b[39;00m\u001b[38;5;250m \u001b[39m\u001b[34mstart_stream\u001b[39m(\u001b[38;5;28mself\u001b[39m, StreamClass, samplerate, channels, dtype, callback,\n\u001b[32m   2632\u001b[39m                  blocking, **kwargs):\n\u001b[32m   2633\u001b[39m     stop()  \u001b[38;5;66;03m# Stop previous playback/recording\u001b[39;00m\n\u001b[32m-> \u001b[39m\u001b[32m2634\u001b[39m     \u001b[38;5;28mself\u001b[39m.stream = \u001b[43mStreamClass\u001b[49m\u001b[43m(\u001b[49m\u001b[43msamplerate\u001b[49m\u001b[43m=\u001b[49m\u001b[43msamplerate\u001b[49m\u001b[43m,\u001b[49m\n\u001b[32m   2635\u001b[39m \u001b[43m                              \u001b[49m\u001b[43mchannels\u001b[49m\u001b[43m=\u001b[49m\u001b[43mchannels\u001b[49m\u001b[43m,\u001b[49m\n\u001b[32m   2636\u001b[39m \u001b[43m                              \u001b[49m\u001b[43mdtype\u001b[49m\u001b[43m=\u001b[49m\u001b[43mdtype\u001b[49m\u001b[43m,\u001b[49m\n\u001b[32m   2637\u001b[39m \u001b[43m                              \u001b[49m\u001b[43mcallback\u001b[49m\u001b[43m=\u001b[49m\u001b[43mcallback\u001b[49m\u001b[43m,\u001b[49m\n\u001b[32m   2638\u001b[39m \u001b[43m                              \u001b[49m\u001b[43mfinished_callback\u001b[49m\u001b[43m=\u001b[49m\u001b[38;5;28;43mself\u001b[39;49m\u001b[43m.\u001b[49m\u001b[43mfinished_callback\u001b[49m\u001b[43m,\u001b[49m\n\u001b[32m   2639\u001b[39m \u001b[43m                              \u001b[49m\u001b[43m*\u001b[49m\u001b[43m*\u001b[49m\u001b[43mkwargs\u001b[49m\u001b[43m)\u001b[49m\n\u001b[32m   2640\u001b[39m     \u001b[38;5;28mself\u001b[39m.stream.start()\n\u001b[32m   2641\u001b[39m     \u001b[38;5;28;01mglobal\u001b[39;00m _last_callback\n",
      "\u001b[36mFile \u001b[39m\u001b[32m~\\AppData\\Local\\miniforge3\\envs\\heatcapacity\\Lib\\site-packages\\sounddevice.py:1440\u001b[39m, in \u001b[36mInputStream.__init__\u001b[39m\u001b[34m(self, samplerate, blocksize, device, channels, dtype, latency, extra_settings, callback, finished_callback, clip_off, dither_off, never_drop_input, prime_output_buffers_using_stream_callback)\u001b[39m\n\u001b[32m   1408\u001b[39m \u001b[38;5;28;01mdef\u001b[39;00m\u001b[38;5;250m \u001b[39m\u001b[34m__init__\u001b[39m(\u001b[38;5;28mself\u001b[39m, samplerate=\u001b[38;5;28;01mNone\u001b[39;00m, blocksize=\u001b[38;5;28;01mNone\u001b[39;00m,\n\u001b[32m   1409\u001b[39m              device=\u001b[38;5;28;01mNone\u001b[39;00m, channels=\u001b[38;5;28;01mNone\u001b[39;00m, dtype=\u001b[38;5;28;01mNone\u001b[39;00m, latency=\u001b[38;5;28;01mNone\u001b[39;00m,\n\u001b[32m   1410\u001b[39m              extra_settings=\u001b[38;5;28;01mNone\u001b[39;00m, callback=\u001b[38;5;28;01mNone\u001b[39;00m, finished_callback=\u001b[38;5;28;01mNone\u001b[39;00m,\n\u001b[32m   1411\u001b[39m              clip_off=\u001b[38;5;28;01mNone\u001b[39;00m, dither_off=\u001b[38;5;28;01mNone\u001b[39;00m, never_drop_input=\u001b[38;5;28;01mNone\u001b[39;00m,\n\u001b[32m   1412\u001b[39m              prime_output_buffers_using_stream_callback=\u001b[38;5;28;01mNone\u001b[39;00m):\n\u001b[32m   1413\u001b[39m \u001b[38;5;250m    \u001b[39m\u001b[33;03m\"\"\"PortAudio input stream (using NumPy).\u001b[39;00m\n\u001b[32m   1414\u001b[39m \n\u001b[32m   1415\u001b[39m \u001b[33;03m    This has the same methods and attributes as `Stream`, except\u001b[39;00m\n\u001b[32m   (...)\u001b[39m\u001b[32m   1438\u001b[39m \n\u001b[32m   1439\u001b[39m \u001b[33;03m    \"\"\"\u001b[39;00m\n\u001b[32m-> \u001b[39m\u001b[32m1440\u001b[39m     \u001b[43m_StreamBase\u001b[49m\u001b[43m.\u001b[49m\u001b[34;43m__init__\u001b[39;49m\u001b[43m(\u001b[49m\u001b[38;5;28;43mself\u001b[39;49m\u001b[43m,\u001b[49m\u001b[43m \u001b[49m\u001b[43mkind\u001b[49m\u001b[43m=\u001b[49m\u001b[33;43m'\u001b[39;49m\u001b[33;43minput\u001b[39;49m\u001b[33;43m'\u001b[39;49m\u001b[43m,\u001b[49m\u001b[43m \u001b[49m\u001b[43mwrap_callback\u001b[49m\u001b[43m=\u001b[49m\u001b[33;43m'\u001b[39;49m\u001b[33;43marray\u001b[39;49m\u001b[33;43m'\u001b[39;49m\u001b[43m,\u001b[49m\n\u001b[32m   1441\u001b[39m \u001b[43m                         \u001b[49m\u001b[43m*\u001b[49m\u001b[43m*\u001b[49m\u001b[43m_remove_self\u001b[49m\u001b[43m(\u001b[49m\u001b[38;5;28;43mlocals\u001b[39;49m\u001b[43m(\u001b[49m\u001b[43m)\u001b[49m\u001b[43m)\u001b[49m\u001b[43m)\u001b[49m\n",
      "\u001b[36mFile \u001b[39m\u001b[32m~\\AppData\\Local\\miniforge3\\envs\\heatcapacity\\Lib\\site-packages\\sounddevice.py:828\u001b[39m, in \u001b[36m_StreamBase.__init__\u001b[39m\u001b[34m(self, kind, samplerate, blocksize, device, channels, dtype, latency, extra_settings, callback, finished_callback, clip_off, dither_off, never_drop_input, prime_output_buffers_using_stream_callback, userdata, wrap_callback)\u001b[39m\n\u001b[32m    825\u001b[39m         samplerate = isamplerate\n\u001b[32m    826\u001b[39m \u001b[38;5;28;01melse\u001b[39;00m:\n\u001b[32m    827\u001b[39m     parameters, \u001b[38;5;28mself\u001b[39m._dtype, \u001b[38;5;28mself\u001b[39m._samplesize, samplerate = \\\n\u001b[32m--> \u001b[39m\u001b[32m828\u001b[39m         \u001b[43m_get_stream_parameters\u001b[49m\u001b[43m(\u001b[49m\u001b[43mkind\u001b[49m\u001b[43m,\u001b[49m\u001b[43m \u001b[49m\u001b[43mdevice\u001b[49m\u001b[43m,\u001b[49m\u001b[43m \u001b[49m\u001b[43mchannels\u001b[49m\u001b[43m,\u001b[49m\u001b[43m \u001b[49m\u001b[43mdtype\u001b[49m\u001b[43m,\u001b[49m\u001b[43m \u001b[49m\u001b[43mlatency\u001b[49m\u001b[43m,\u001b[49m\n\u001b[32m    829\u001b[39m \u001b[43m                               \u001b[49m\u001b[43mextra_settings\u001b[49m\u001b[43m,\u001b[49m\u001b[43m \u001b[49m\u001b[43msamplerate\u001b[49m\u001b[43m)\u001b[49m\n\u001b[32m    830\u001b[39m     \u001b[38;5;28mself\u001b[39m._device = parameters.device\n\u001b[32m    831\u001b[39m     \u001b[38;5;28mself\u001b[39m._channels = parameters.channelCount\n",
      "\u001b[36mFile \u001b[39m\u001b[32m~\\AppData\\Local\\miniforge3\\envs\\heatcapacity\\Lib\\site-packages\\sounddevice.py:2716\u001b[39m, in \u001b[36m_get_stream_parameters\u001b[39m\u001b[34m(kind, device, channels, dtype, latency, extra_settings, samplerate)\u001b[39m\n\u001b[32m   2713\u001b[39m \u001b[38;5;28;01mif\u001b[39;00m samplerate \u001b[38;5;129;01mis\u001b[39;00m \u001b[38;5;28;01mNone\u001b[39;00m:\n\u001b[32m   2714\u001b[39m     samplerate = default.samplerate\n\u001b[32m-> \u001b[39m\u001b[32m2716\u001b[39m info = \u001b[43mquery_devices\u001b[49m\u001b[43m(\u001b[49m\u001b[43mdevice\u001b[49m\u001b[43m)\u001b[49m\n\u001b[32m   2717\u001b[39m \u001b[38;5;28;01mif\u001b[39;00m channels \u001b[38;5;129;01mis\u001b[39;00m \u001b[38;5;28;01mNone\u001b[39;00m:\n\u001b[32m   2718\u001b[39m     channels = info[\u001b[33m'\u001b[39m\u001b[33mmax_\u001b[39m\u001b[33m'\u001b[39m + kind + \u001b[33m'\u001b[39m\u001b[33m_channels\u001b[39m\u001b[33m'\u001b[39m]\n",
      "\u001b[36mFile \u001b[39m\u001b[32m~\\AppData\\Local\\miniforge3\\envs\\heatcapacity\\Lib\\site-packages\\sounddevice.py:572\u001b[39m, in \u001b[36mquery_devices\u001b[39m\u001b[34m(device, kind)\u001b[39m\n\u001b[32m    570\u001b[39m info = _lib.Pa_GetDeviceInfo(device)\n\u001b[32m    571\u001b[39m \u001b[38;5;28;01mif\u001b[39;00m \u001b[38;5;129;01mnot\u001b[39;00m info:\n\u001b[32m--> \u001b[39m\u001b[32m572\u001b[39m     \u001b[38;5;28;01mraise\u001b[39;00m PortAudioError(\u001b[33mf\u001b[39m\u001b[33m'\u001b[39m\u001b[33mError querying device \u001b[39m\u001b[38;5;132;01m{\u001b[39;00mdevice\u001b[38;5;132;01m}\u001b[39;00m\u001b[33m'\u001b[39m)\n\u001b[32m    573\u001b[39m \u001b[38;5;28;01massert\u001b[39;00m info.structVersion == \u001b[32m2\u001b[39m\n\u001b[32m    574\u001b[39m name_bytes = _ffi.string(info.name)\n",
      "\u001b[31mPortAudioError\u001b[39m: Error querying device -1"
     ]
    }
   ],
   "source": [
    "#Collecting user input\n",
    "collecttime = float(input('How long do you want to collect data? (in seconds)'))\n",
    "filename = input('Name the file for your sound data (.wav).')\n",
    "datafile = input('Name the file to be saved with your data (.txt)')\n",
    "\n",
    "#Set sample frequence to 44,100 Hz which is the standard value\n",
    "sampfreq = 44100\n",
    "\n",
    "recording = sd.rec(int(collecttime * sampfreq), channels = 1)\n",
    "\n",
    "#Pausing to take the recording\n",
    "sd.wait()\n",
    "\n",
    "# Saving audio file as the designated name\n",
    "wavefile.write(filename, sampfreq, recording)\n",
    "freq, Signal = wavefile.read(filename)\n",
    "\n",
    "# Fourier transform calculates a frequency spectrum\n",
    "# for a signal in the time domain\n",
    "# Use Discrete Fourier transform to get signal from time to frequency domain\n",
    "\n",
    "# number of samples in recording\n",
    "N = int(sampfreq*collecttime)\n",
    "\n",
    "# performs the Fourier transform\n",
    "yf = np.fft.rfft(Signal)\n",
    "xf = np.fft.rfftfreq(N, 1/ sampfreq)\n",
    "\n",
    "# Now we begin filtering out values below 100Hz\n",
    "yf_abs = np.abs(yf)\n",
    "# Identifying data points within the sample where the minimum frequency is satisfied\n",
    "indices = yf_abs>100\n",
    "# New array without low frequency\n",
    "yf_Clean = indices * yf_abs\n",
    "\n",
    "#plotting\n",
    "plt.plot(xf, yf_abs)"
   ]
  },
  {
   "cell_type": "code",
   "execution_count": null,
   "id": "214df23b-e251-473d-9f29-767b3c2bfe76",
   "metadata": {},
   "outputs": [],
   "source": []
  },
  {
   "cell_type": "code",
   "execution_count": null,
   "id": "3e86543c-b195-4d9d-bbef-05a367a5b515",
   "metadata": {},
   "outputs": [],
   "source": []
  }
 ],
 "metadata": {
  "kernelspec": {
   "display_name": "Python 3 (ipykernel)",
   "language": "python",
   "name": "python3"
  },
  "language_info": {
   "codemirror_mode": {
    "name": "ipython",
    "version": 3
   },
   "file_extension": ".py",
   "mimetype": "text/x-python",
   "name": "python",
   "nbconvert_exporter": "python",
   "pygments_lexer": "ipython3",
   "version": "3.13.7"
  }
 },
 "nbformat": 4,
 "nbformat_minor": 5
}
