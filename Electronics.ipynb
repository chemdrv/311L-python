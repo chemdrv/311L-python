{
 "cells": [
  {
   "cell_type": "code",
   "execution_count": 1,
   "metadata": {},
   "outputs": [],
   "source": [
    "import numpy as np\n",
    "import matplotlib.pyplot as plt"
   ]
  },
  {
   "cell_type": "markdown",
   "metadata": {},
   "source": [
    "# Building a Temperature Acquistion Circuit\n",
    "\n",
    "**Goal:** To design and build a temperature acquisiton circuit with assigned properties.\n",
    "\n",
    "| Week | In lab | At home |\n",
    "|---|---|---|\n",
    "| 1 | **Circuitry Basics** | **Design a Thermocouple Circuit** |\n",
    "| 2 | **Building a Thermocouple Circuit** | Refine circuit design as needed |\n",
    "| 3 | **Calibration** | Write up your circuit properties |\n",
    "\n",
    "## Circuitry Basics\n",
    "\n",
    "### The bits and pieces\n",
    "\n",
    "Using your classmates and TAs as resources, answer the following questions in your lab notebook. Remember that your notebook should be understandable to someone who doesn't have this assignment sheet.\n",
    "\n",
    " - What is the purpose of a ground?\n",
    " - Describe voltage\n",
    " - Describe resistance\n",
    " - What physical change is detected by a thermocouple?\n",
    " - What type of signal is put out by a thermocouple?\n",
    " - Ask a TA to show you a thermocouple, and write a description of it\n",
    " - Ask a TA to show you how to strip a wire\n",
    " - A circuit diagram is a sketch showing how a circuit is connected. What are the circuit diagram symbols for: ground, a resister, an op-amp?\n",
    " -  Find an information sheet showing the pinout connections of an op amp. Which pins get the power supply? Which pins get the voltage input?\n",
    " - Find an op amp and figure out how it plugs in to a breadboard\n",
    " \n",
    "### Using a multimeter\n",
    "\n",
    "Obtain a multi-meter and corresponding leads. Figure out how the leads should be connected and connect them. Look at the selector on the front and work out what are the different measurement capabilities of the device. Ask your TA if you can't figure it out.\n",
    "\n",
    "Obtain a DC power supply, that is, a 9V battery. Use the leads to measure the voltage of the battery. Click through the various voltage settings and observe the readout on the multimeter.\n",
    "\n",
    "Obtain 3 resistors, one each in the following ranges: M$\\Omega$, k$\\Omega$, and $<$1k$\\Omega$. Test ethe resistance of each using your multimeter and record the results in your lab notebook. Then use the reading resistors handout to determine the resistance of each. If the two values don't agree within the tolerance (which is another band on the resistor), then check your work until they do agree.\n",
    "\n",
    "### Understanding breadboards\n",
    "\n",
    "Detach the white breadboard from a nearby circuit trainer. Look at the back and determine which ports are connected. You should observe long vertical columns, which are called rails or bus lines, and short horizontal lines. Note that the horizontal lines do not connect across the dip, and the vertical lines have a break half-way.\n",
    "!!! This should just include a picture of the breadboard\n",
    "\n",
    "Next, ask your TA for a small prototyping breadboard. The back of this breadboard is covered with an adhesive, so you can't see the connections. Instead, us the multimeter to test which inputs are connected. If the ports are connected, the multi-meter will read no resistance. If they are not connected, it'll read infinite resistance.\n",
    "! Same here"
   ]
  },
  {
   "cell_type": "code",
   "execution_count": null,
   "metadata": {},
   "outputs": [],
   "source": [
    "https://jupyter-notebook.readthedocs.io/en/latest/examples/Notebook/Working%20With%20Markdown%20Cells.html\n"
   ]
  }
 ],
 "metadata": {
  "kernelspec": {
   "display_name": "Python 3",
   "language": "python",
   "name": "python3"
  },
  "language_info": {
   "codemirror_mode": {
    "name": "ipython",
    "version": 3
   },
   "file_extension": ".py",
   "mimetype": "text/x-python",
   "name": "python",
   "nbconvert_exporter": "python",
   "pygments_lexer": "ipython3",
   "version": "3.8.5"
  }
 },
 "nbformat": 4,
 "nbformat_minor": 2
}
