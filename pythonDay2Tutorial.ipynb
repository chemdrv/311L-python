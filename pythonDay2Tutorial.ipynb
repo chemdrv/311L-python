{
 "cells": [
  {
   "cell_type": "markdown",
   "metadata": {},
   "source": [
    "# Day 2"
   ]
  },
  {
   "cell_type": "markdown",
   "metadata": {},
   "source": [
    "# Imports"
   ]
  },
  {
   "cell_type": "markdown",
   "metadata": {},
   "source": [
    "When you start up a new notebook and begin executing cells, everything you execute gets put in the memory and stays there until you close the notebook or restart the kernel. Eventually, we'll be transitioning our scripts to exectuable files, which means that you'll need to be sure to define everything. So, to get started, let's go back to the previous day's work and grab all the import lines. I count four libraries that need to be imported. Go ahead and find all four lines, put them in the cell below, and execute that cell.\n",
    "\n",
    "A note: When we work with functions from these imported libraries, the functions get called like this: `libraryName.functionName()`. That's a method of being careful with namespaces. Just like the Smith family and the Lee family might both have a person named Matt, two different libraries might have a function with the same name. With functions from libraries, the best thing to do is always refer to them as `libraryName.functionName()`. There is a way to import a library so that you just have to type `functionName()`, but it has the same problem as only using first names to identify people in large groups. The more you do this, the more likely you'll get a repeat function name, and then your program can behave in very strange ways.\n",
    "\n",
    "Another note: The instructions today get shorter. I'm expecting you to be better at figuring things out, using the documentation (type `help(functionName)`), and asking for help. Remember to wrtie small amounts of code at a time. And play around a lot. The wonderful thing about coding is that if you mess up, you didn't break any glassware or waste any reagents."
   ]
  },
  {
   "cell_type": "code",
   "execution_count": null,
   "metadata": {},
   "outputs": [],
   "source": []
  },
  {
   "cell_type": "markdown",
   "metadata": {},
   "source": [
    "# Allowing the user to set acquisition parameters"
   ]
  },
  {
   "cell_type": "markdown",
   "metadata": {},
   "source": [
    "Alright the next feature to add to your script is to allow the user to tell the code acquisition parameters. We want to ask the user how frequently to collect data, and how long the data collection should go on for. Then we want to update the program to run according to what the user specified."
   ]
  },
  {
   "cell_type": "markdown",
   "metadata": {},
   "source": [
    "## User inputs"
   ]
  },
  {
   "cell_type": "markdown",
   "metadata": {},
   "source": [
    "At the beginning (but not before your imports!) of your script, you want to add in a line which asks the user how many points per second to acquire data at, and stores that number in a variable. The function you want is called `input()`. Use the cell below to figure out how to ask a question and store the user's answer in a variable. Remember to pick a human readable variable name."
   ]
  },
  {
   "cell_type": "code",
   "execution_count": null,
   "metadata": {},
   "outputs": [],
   "source": []
  },
  {
   "cell_type": "markdown",
   "metadata": {},
   "source": [
    "We're gonna pause a moment here for some programming formalities. Remember on Day 1 when we talked about integers versus floats versus strings? In the cell below type `type(YourInputVariable)`. Play with various possible input values from the user and check the type on them. They're all coming up as type `str`, yes? That's because `input()` stores data as strings, regardless of the type of data you type in. We're going to have to convert your user input to the correct type. You'll want to use a line line one of the two below:\n",
    "`yourInputVariable=int(yourInputVariable)`\n",
    "`yourInputVariable=float(yourInputVariable)`\n",
    "\n",
    "It's up to you to decide which is the more appropriate line. If you're feeling fancy, you can figure out how to make this happen in the same line as the user input, but it's perfectly fine to do it as a second line also."
   ]
  },
  {
   "cell_type": "code",
   "execution_count": null,
   "metadata": {},
   "outputs": [],
   "source": []
  },
  {
   "cell_type": "markdown",
   "metadata": {},
   "source": [
    "Now that you've got the hang of how to do a user input, copy your script into the cell below. Add in two user inputs. One should ask the user the rate of acquisition. The other should ask the user how long they want the program to run. Be sure that your prompt tells the user what units to use.\n",
    "\n",
    "Next, update your loop so that the program behaves as the user specified. You'll need to edit the `while` statement to take into account the run time the user wanted, and the `pause` or `sleep` function to control the rate of acquisition. Test your program with several sets of inputs and verify that it's doing what you intend it to do.\n",
    "\n",
    "At this point, stop and check the logic of your pgrogram. Thing about the order of the lines. Do you want to grab an initial time before or after the requests for user input? Have you cleaned up variables you aren't using anymore? As you go forward, stop periodically to make your code neat and tidy. It'll prevent terrible logic errors from creeping in.\n",
    "\n",
    "A note: You might want to move the plotting command out of the loop temporarily. When we're done, we need a plot that updates in real time, but it does slow things down. Instead of deleting it in the loop, comment out the plot line there, and copy it to the end, after the loop. This way you still have the command you want when you switch back to the other functionality. Also, if your plots aren't showing up, throw in a `plt.draw()` after the plot command."
   ]
  },
  {
   "cell_type": "code",
   "execution_count": null,
   "metadata": {},
   "outputs": [],
   "source": []
  },
  {
   "cell_type": "markdown",
   "metadata": {},
   "source": [
    "# Making a prettier plot"
   ]
  },
  {
   "cell_type": "markdown",
   "metadata": {},
   "source": [
    "Now, let's make that plot easier to read. Use `xlabel()`, `ylabel()`, and `title()` to annotate your plot.\n",
    "\n",
    "You also may want to be able to put special characters in your annotations. Specifically, in the final version of your program, you might want to be able to type $^\\circ$C. Here's a fantastic reference on special characters in matplotlib: https://matplotlib.org/gallery/text_labels_and_annotations/mathtext_examples.html#sphx-glr-gallery-text-labels-and-annotations-mathtext-examples-py\n",
    "\n",
    "To do special characters, you have to do two things: you need to know the plain-text way of typing that character, and you need to tell your script that you want the special characters rendered. The way to type a degree symbols is `^\\circ`. The `^` says make the following symbol an exponet, and `\\circ` makes a little circle. To tell matplotlib that you want to render special characters, you put an `r` in front of the first quotation mark. Any special characters or mathematical notation needs to be surrounded by dollar signs. Click on that link above for examples.\n",
    "\n",
    "Once you start acquiring real data, you may end up with thousands of points. In order to make your life easier, I'd edit things so that you're just plotting the newest element acquired, not the entire array.\n",
    "\n",
    "If your plot isn't updating in real time, check that you're using `plt.pause()` not `time.sleep()` - those have a different order in the execution stack, and `plt,pause()` gives us what we want.\n",
    "\n",
    "Finally, a useful troubleshooting tip: if you want a clear plot, type and execute `plt.clf()`."
   ]
  },
  {
   "cell_type": "code",
   "execution_count": null,
   "metadata": {
    "scrolled": true
   },
   "outputs": [],
   "source": []
  },
  {
   "cell_type": "markdown",
   "metadata": {},
   "source": [
    "# Saving your data to a file"
   ]
  },
  {
   "cell_type": "markdown",
   "metadata": {},
   "source": [
    "The last step for today is to save your time and data values to a file that you can analyze later. If you are trying to save complicated data of several different types, sizes, and arrangements, there are some powerful routines to do that. For our purposes though, there is a simple Numpy function that does what we want."
   ]
  },
  {
   "cell_type": "markdown",
   "metadata": {},
   "source": [
    "## Making the object to save"
   ]
  },
  {
   "cell_type": "markdown",
   "metadata": {},
   "source": [
    "The save function that we'll be using is easy to use, and simply writes a single 1-dimensional OR 2-dimensional array to a text fine. In order to use it, you'll need to combine your time and data arrays into one array.\n",
    "\n",
    "A useful doc on how to combine arrays is here:\n",
    "https://docs.scipy.org/doc/numpy/reference/routines.array-manipulation.html#joining-arrays\n",
    "\n",
    "A more general reference on how arrays work is here:\n",
    "https://docs.scipy.org/doc/numpy/user/basics.indexing.html\n",
    "\n",
    "Note where those references are from. I'm not doing a random web search in hopes someone has answered my specific question. That's a website written *by the people who wrote the code* intended to teach new users how to use their code. Reading pages like that answers the question you have today and gives you the information you need for the question you're going to have tomorrow.\n",
    "\n",
    "A shortcut for one of those named functions is to type something like `(array1,array2)`, which you may or may not find useful.\n",
    "\n",
    "Use the cell below to play with your two arrays. Get them to combine into one new array. When you look at the output that array (by just typing it's name on a new line) you should see a column that contains your time values in order, and a second column that is your random numbers."
   ]
  },
  {
   "cell_type": "code",
   "execution_count": null,
   "metadata": {},
   "outputs": [],
   "source": []
  },
  {
   "cell_type": "markdown",
   "metadata": {},
   "source": [
    "A note: this seems like this should be easy. It tends to be difficult for most students. Take careful notes on how the various array functions work. Write explanations of the parts you find difficult *in your own words* in your lab notebook. That sort of mental processing helps a concept stick in your brain."
   ]
  },
  {
   "cell_type": "markdown",
   "metadata": {},
   "source": [
    "## How to save a file"
   ]
  },
  {
   "cell_type": "markdown",
   "metadata": {},
   "source": [
    "The function to save a Numpy array to a file is `np.savetxt()`. Access the help and figure out how to write your data to a file. It'll save in the same folder you're currently working in, unless you specify another path.\n",
    "\n",
    "One of the nice things about the `np.savetxt()` function is that we don't have to worry about opening and closing the file in our script. When working with more sophisticated writing functions, the normal order of operations is:\n",
    "0. (may or may not be necessary) Create the file\n",
    "1. Open the file\n",
    "2. Do whatever you need to do in the file\n",
    "3. Close the file\n",
    "\n",
    "If you don't explicitely close the file, strange behavior can result. The key reason for working this way is to make sure two different programs aren't trying to edit the same file at the same time. `savetxt()` automatically opens and closes the file for us, **but** the file won't dynamically update in the program you're viewing it with. So each time you open your saved file with another program to check what happened, you'll want to close it again before you try the next run.\n",
    "\n",
    "A note: you can keep using the same filename over and over again while you're learning this. `savetxt()` will re-write the entire time each time you call it.\n",
    "\n",
    "Use the cell below to save your combined data array. Open up the file to verify that you saved what you intended to save. I'd recommend Microscoft Notepad or another plaintext viewer to look at this data while you're getting it to run. You can probably find Notepad under 'Windows Accessories'"
   ]
  },
  {
   "cell_type": "code",
   "execution_count": null,
   "metadata": {},
   "outputs": [],
   "source": []
  },
  {
   "cell_type": "markdown",
   "metadata": {},
   "source": [
    "### Saving well formatted data"
   ]
  },
  {
   "cell_type": "markdown",
   "metadata": {},
   "source": [
    "If you look at your saved file, you'll see it's outputting a massive number of digits, and it doesn't say what each column is. You're going to use the `np.savetxt()` optional arguments `fmt` and `header` to make a file that's nicer to work with.\n",
    "\n",
    "Look at the documentation for `np.savetxt()`, either using the help command or by going to the Numpy documentation here:\n",
    "https://numpy.org/doc/1.17/reference/generated/numpy.savetxt.html#numpy.savetxt\n",
    "\n",
    "Scroll down and fine the \"Notes\" section. This sort of formatting is old school but effective. You'll put in a series of characters that let you decide how many characters wide each column should be, how many digits after the decimal you want, and how you want the data should be displayed. Here's an example:\n",
    "`fmt='%8.4f;  %6.2e'`\n",
    "If you use that format string, you'll get the following structure to your saved file. The first column will be at least eight characters wide, left padded with spaces as needed. There will be four digits after the decimal to every entry. There will be a semi-colon at the end of this column to delimit it from the next column and then two spaces. The second column will be at least six digits wide, with two digits after the decimal, and stored in exponential notation.\n",
    "\n",
    "Consider the type of data you're saving, and decide how you want it formatted. Also consider what delimiter you want. It doesn't really matter, but either plain spaces or a comma are the most common. Update your save line so that it saves a nicely formatted set of data.\n",
    "\n",
    "A note: If you use my format string as is, or don't use a format string at all, you'll loose points."
   ]
  },
  {
   "cell_type": "code",
   "execution_count": null,
   "metadata": {},
   "outputs": [],
   "source": []
  },
  {
   "cell_type": "markdown",
   "metadata": {},
   "source": [
    "Next, let's put a header row on your saved data. The optional argument `header=` lets you put in some plain text to be the first line of a file, so that you can identify the columns for a future reader. Create a string that labels each column, making sure it'll line up with your data."
   ]
  },
  {
   "cell_type": "code",
   "execution_count": null,
   "metadata": {},
   "outputs": [],
   "source": []
  },
  {
   "cell_type": "markdown",
   "metadata": {},
   "source": [
    "## Saving to a user generated filename"
   ]
  },
  {
   "cell_type": "markdown",
   "metadata": {},
   "source": [
    "You'll want to be able to take a bunch of data runs in the same day, and keep all the data. Edit your script so that it asks the user what filename (and reminds the user to specify an extension) and saves it to that filename.\n",
    "\n",
    "If you've spread out the functions of your script over several cells, gather them all together here for when you get your exit ticket checked."
   ]
  },
  {
   "cell_type": "code",
   "execution_count": null,
   "metadata": {},
   "outputs": [],
   "source": []
  },
  {
   "cell_type": "markdown",
   "metadata": {},
   "source": [
    "Finally, you'll probably want to be able to import your raw data into Excel. If you don't know how to do this, there is a video posted on Blackboard that will show you how.\n",
    "\n",
    "But Dr. V, you say, why not save the data in a format Excel recognizes? Afterall, ChemE students learn how to do that in MATLAB and that's easier. Well here's why. Excel formatted files can only be opened in Excel and similar spreadsheet programs. A plaintext file like we're saving can be opened in Excel, but it cal also be opened an analyzed in Python, or in MATLAB, or basically any other data analysis tool you'll ever see. It's more versatile to save data in a plain format, unless you're working with some sort of standard data object."
   ]
  },
  {
   "cell_type": "markdown",
   "metadata": {},
   "source": [
    "## Exit ticket"
   ]
  },
  {
   "cell_type": "markdown",
   "metadata": {},
   "source": [
    "Verify that the following things are true:\n",
    " - Your script has all the functionality described here\n",
    " - Your plaintext data file is formatted how you wish\n",
    " - You know how to open it in Excel\n",
    "When all of that is true, tell Dr. V, and she'll check you out for the day."
   ]
  },
  {
   "cell_type": "code",
   "execution_count": null,
   "metadata": {},
   "outputs": [],
   "source": []
  }
 ],
 "metadata": {
  "kernelspec": {
   "display_name": "Python 3",
   "language": "python",
   "name": "python3"
  },
  "language_info": {
   "codemirror_mode": {
    "name": "ipython",
    "version": 3
   },
   "file_extension": ".py",
   "mimetype": "text/x-python",
   "name": "python",
   "nbconvert_exporter": "python",
   "pygments_lexer": "ipython3",
   "version": "3.8.5"
  }
 },
 "nbformat": 4,
 "nbformat_minor": 2
}
